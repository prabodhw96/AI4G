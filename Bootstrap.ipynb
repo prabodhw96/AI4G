{
 "cells": [
  {
   "cell_type": "code",
   "execution_count": 1,
   "metadata": {},
   "outputs": [],
   "source": [
    "import numpy as np\n",
    "import pandas as pd"
   ]
  },
  {
   "cell_type": "code",
   "execution_count": 2,
   "metadata": {},
   "outputs": [
    {
     "name": "stderr",
     "output_type": "stream",
     "text": [
      "c:\\users\\prabo\\appdata\\local\\programs\\python\\python37\\lib\\site-packages\\IPython\\core\\interactiveshell.py:3072: DtypeWarning: Columns (3) have mixed types.Specify dtype option on import or set low_memory=False.\n",
      "  interactivity=interactivity, compiler=compiler, result=result)\n"
     ]
    },
    {
     "data": {
      "text/html": [
       "<div>\n",
       "<style scoped>\n",
       "    .dataframe tbody tr th:only-of-type {\n",
       "        vertical-align: middle;\n",
       "    }\n",
       "\n",
       "    .dataframe tbody tr th {\n",
       "        vertical-align: top;\n",
       "    }\n",
       "\n",
       "    .dataframe thead th {\n",
       "        text-align: right;\n",
       "    }\n",
       "</style>\n",
       "<table border=\"1\" class=\"dataframe\">\n",
       "  <thead>\n",
       "    <tr style=\"text-align: right;\">\n",
       "      <th></th>\n",
       "      <th>CRASH_DATE</th>\n",
       "      <th>CRASH_TIME</th>\n",
       "      <th>BOROUGH</th>\n",
       "      <th>ZIP_CODE</th>\n",
       "      <th>LATITUDE</th>\n",
       "      <th>LONGITUDE</th>\n",
       "      <th>LOCATION</th>\n",
       "      <th>ON_STREET_NAME</th>\n",
       "      <th>CROSS_STREET_NAME</th>\n",
       "      <th>OFF_STREET_NAME</th>\n",
       "      <th>...</th>\n",
       "      <th>CONTRIBUTING_FACTOR_VEHICLE_2</th>\n",
       "      <th>CONTRIBUTING_FACTOR_VEHICLE_3</th>\n",
       "      <th>CONTRIBUTING_FACTOR_VEHICLE_4</th>\n",
       "      <th>CONTRIBUTING_FACTOR_VEHICLE_5</th>\n",
       "      <th>COLLISION_ID</th>\n",
       "      <th>VEHICLE_TYPE_1</th>\n",
       "      <th>VEHICLE_TYPE_2</th>\n",
       "      <th>VEHICLE_TYPE_3</th>\n",
       "      <th>VEHICLE_TYPE_4</th>\n",
       "      <th>VEHICLE_TYPE_5</th>\n",
       "    </tr>\n",
       "  </thead>\n",
       "  <tbody>\n",
       "    <tr>\n",
       "      <th>0</th>\n",
       "      <td>04/14/2020</td>\n",
       "      <td>11:00</td>\n",
       "      <td>NaN</td>\n",
       "      <td>NaN</td>\n",
       "      <td>NaN</td>\n",
       "      <td>NaN</td>\n",
       "      <td>NaN</td>\n",
       "      <td>VERRAZANO BRIDGE UPPER</td>\n",
       "      <td>NaN</td>\n",
       "      <td>NaN</td>\n",
       "      <td>...</td>\n",
       "      <td>Unspecified</td>\n",
       "      <td>NaN</td>\n",
       "      <td>NaN</td>\n",
       "      <td>NaN</td>\n",
       "      <td>4309146.0</td>\n",
       "      <td>Sedan</td>\n",
       "      <td>C1</td>\n",
       "      <td>NaN</td>\n",
       "      <td>NaN</td>\n",
       "      <td>NaN</td>\n",
       "    </tr>\n",
       "    <tr>\n",
       "      <th>1</th>\n",
       "      <td>06/13/2016</td>\n",
       "      <td>17:10</td>\n",
       "      <td>NaN</td>\n",
       "      <td>NaN</td>\n",
       "      <td>NaN</td>\n",
       "      <td>NaN</td>\n",
       "      <td>NaN</td>\n",
       "      <td>STATEN ISLAND EXPY</td>\n",
       "      <td>NaN</td>\n",
       "      <td>NaN</td>\n",
       "      <td>...</td>\n",
       "      <td>Unspecified</td>\n",
       "      <td>NaN</td>\n",
       "      <td>NaN</td>\n",
       "      <td>NaN</td>\n",
       "      <td>3461754.0</td>\n",
       "      <td>PASSENGER VEHICLE</td>\n",
       "      <td>PASSENGER VEHICLE</td>\n",
       "      <td>NaN</td>\n",
       "      <td>NaN</td>\n",
       "      <td>NaN</td>\n",
       "    </tr>\n",
       "    <tr>\n",
       "      <th>2</th>\n",
       "      <td>06/13/2016</td>\n",
       "      <td>17:30</td>\n",
       "      <td>NaN</td>\n",
       "      <td>NaN</td>\n",
       "      <td>NaN</td>\n",
       "      <td>NaN</td>\n",
       "      <td>NaN</td>\n",
       "      <td>MAJOR DEEGAN EXPRESSWAY</td>\n",
       "      <td>NaN</td>\n",
       "      <td>NaN</td>\n",
       "      <td>...</td>\n",
       "      <td>Unspecified</td>\n",
       "      <td>NaN</td>\n",
       "      <td>NaN</td>\n",
       "      <td>NaN</td>\n",
       "      <td>3461325.0</td>\n",
       "      <td>PASSENGER VEHICLE</td>\n",
       "      <td>PASSENGER VEHICLE</td>\n",
       "      <td>NaN</td>\n",
       "      <td>NaN</td>\n",
       "      <td>NaN</td>\n",
       "    </tr>\n",
       "    <tr>\n",
       "      <th>3</th>\n",
       "      <td>08/02/2018</td>\n",
       "      <td>9:30</td>\n",
       "      <td>NaN</td>\n",
       "      <td>NaN</td>\n",
       "      <td>NaN</td>\n",
       "      <td>NaN</td>\n",
       "      <td>NaN</td>\n",
       "      <td>NaN</td>\n",
       "      <td>NaN</td>\n",
       "      <td>262       BRIGHTON 6 STREET</td>\n",
       "      <td>...</td>\n",
       "      <td>NaN</td>\n",
       "      <td>NaN</td>\n",
       "      <td>NaN</td>\n",
       "      <td>NaN</td>\n",
       "      <td>3953244.0</td>\n",
       "      <td>Station Wagon/Sport Utility Vehicle</td>\n",
       "      <td>NaN</td>\n",
       "      <td>NaN</td>\n",
       "      <td>NaN</td>\n",
       "      <td>NaN</td>\n",
       "    </tr>\n",
       "    <tr>\n",
       "      <th>4</th>\n",
       "      <td>06/13/2016</td>\n",
       "      <td>18:00</td>\n",
       "      <td>NaN</td>\n",
       "      <td>NaN</td>\n",
       "      <td>NaN</td>\n",
       "      <td>NaN</td>\n",
       "      <td>NaN</td>\n",
       "      <td>WEST SHORE EXPRESSWAY</td>\n",
       "      <td>NaN</td>\n",
       "      <td>NaN</td>\n",
       "      <td>...</td>\n",
       "      <td>Unspecified</td>\n",
       "      <td>Unspecified</td>\n",
       "      <td>NaN</td>\n",
       "      <td>NaN</td>\n",
       "      <td>3461757.0</td>\n",
       "      <td>PASSENGER VEHICLE</td>\n",
       "      <td>PASSENGER VEHICLE</td>\n",
       "      <td>PASSENGER VEHICLE</td>\n",
       "      <td>NaN</td>\n",
       "      <td>NaN</td>\n",
       "    </tr>\n",
       "  </tbody>\n",
       "</table>\n",
       "<p>5 rows × 29 columns</p>\n",
       "</div>"
      ],
      "text/plain": [
       "   CRASH_DATE CRASH_TIME BOROUGH ZIP_CODE  LATITUDE  LONGITUDE LOCATION  \\\n",
       "0  04/14/2020      11:00     NaN      NaN       NaN        NaN      NaN   \n",
       "1  06/13/2016      17:10     NaN      NaN       NaN        NaN      NaN   \n",
       "2  06/13/2016      17:30     NaN      NaN       NaN        NaN      NaN   \n",
       "3  08/02/2018       9:30     NaN      NaN       NaN        NaN      NaN   \n",
       "4  06/13/2016      18:00     NaN      NaN       NaN        NaN      NaN   \n",
       "\n",
       "                     ON_STREET_NAME CROSS_STREET_NAME  \\\n",
       "0  VERRAZANO BRIDGE UPPER                         NaN   \n",
       "1  STATEN ISLAND EXPY                             NaN   \n",
       "2  MAJOR DEEGAN EXPRESSWAY                        NaN   \n",
       "3                               NaN               NaN   \n",
       "4  WEST SHORE EXPRESSWAY                          NaN   \n",
       "\n",
       "                            OFF_STREET_NAME  ...  \\\n",
       "0                                       NaN  ...   \n",
       "1                                       NaN  ...   \n",
       "2                                       NaN  ...   \n",
       "3  262       BRIGHTON 6 STREET               ...   \n",
       "4                                       NaN  ...   \n",
       "\n",
       "   CONTRIBUTING_FACTOR_VEHICLE_2  CONTRIBUTING_FACTOR_VEHICLE_3  \\\n",
       "0                    Unspecified                            NaN   \n",
       "1                    Unspecified                            NaN   \n",
       "2                    Unspecified                            NaN   \n",
       "3                            NaN                            NaN   \n",
       "4                    Unspecified                    Unspecified   \n",
       "\n",
       "   CONTRIBUTING_FACTOR_VEHICLE_4  CONTRIBUTING_FACTOR_VEHICLE_5  COLLISION_ID  \\\n",
       "0                            NaN                            NaN     4309146.0   \n",
       "1                            NaN                            NaN     3461754.0   \n",
       "2                            NaN                            NaN     3461325.0   \n",
       "3                            NaN                            NaN     3953244.0   \n",
       "4                            NaN                            NaN     3461757.0   \n",
       "\n",
       "                        VEHICLE_TYPE_1     VEHICLE_TYPE_2     VEHICLE_TYPE_3  \\\n",
       "0                                Sedan                 C1                NaN   \n",
       "1                    PASSENGER VEHICLE  PASSENGER VEHICLE                NaN   \n",
       "2                    PASSENGER VEHICLE  PASSENGER VEHICLE                NaN   \n",
       "3  Station Wagon/Sport Utility Vehicle                NaN                NaN   \n",
       "4                    PASSENGER VEHICLE  PASSENGER VEHICLE  PASSENGER VEHICLE   \n",
       "\n",
       "  VEHICLE_TYPE_4 VEHICLE_TYPE_5  \n",
       "0            NaN            NaN  \n",
       "1            NaN            NaN  \n",
       "2            NaN            NaN  \n",
       "3            NaN            NaN  \n",
       "4            NaN            NaN  \n",
       "\n",
       "[5 rows x 29 columns]"
      ]
     },
     "execution_count": 2,
     "metadata": {},
     "output_type": "execute_result"
    }
   ],
   "source": [
    "df = pd.read_csv(\"data/Motor_Vehicle_Collisions_-_Crashes.csv\")\n",
    "df.head()"
   ]
  },
  {
   "cell_type": "code",
   "execution_count": 3,
   "metadata": {},
   "outputs": [],
   "source": [
    "df1 = df[[\"CRASH_DATE\", \"CRASH_TIME\", \"LATITUDE\", \"LONGITUDE\"]]"
   ]
  },
  {
   "cell_type": "code",
   "execution_count": 4,
   "metadata": {},
   "outputs": [
    {
     "data": {
      "text/html": [
       "<div>\n",
       "<style scoped>\n",
       "    .dataframe tbody tr th:only-of-type {\n",
       "        vertical-align: middle;\n",
       "    }\n",
       "\n",
       "    .dataframe tbody tr th {\n",
       "        vertical-align: top;\n",
       "    }\n",
       "\n",
       "    .dataframe thead th {\n",
       "        text-align: right;\n",
       "    }\n",
       "</style>\n",
       "<table border=\"1\" class=\"dataframe\">\n",
       "  <thead>\n",
       "    <tr style=\"text-align: right;\">\n",
       "      <th></th>\n",
       "      <th>CRASH_DATE</th>\n",
       "      <th>CRASH_TIME</th>\n",
       "      <th>LATITUDE</th>\n",
       "      <th>LONGITUDE</th>\n",
       "    </tr>\n",
       "  </thead>\n",
       "  <tbody>\n",
       "    <tr>\n",
       "      <th>0</th>\n",
       "      <td>04/14/2020</td>\n",
       "      <td>11:00</td>\n",
       "      <td>NaN</td>\n",
       "      <td>NaN</td>\n",
       "    </tr>\n",
       "    <tr>\n",
       "      <th>1</th>\n",
       "      <td>06/13/2016</td>\n",
       "      <td>17:10</td>\n",
       "      <td>NaN</td>\n",
       "      <td>NaN</td>\n",
       "    </tr>\n",
       "    <tr>\n",
       "      <th>2</th>\n",
       "      <td>06/13/2016</td>\n",
       "      <td>17:30</td>\n",
       "      <td>NaN</td>\n",
       "      <td>NaN</td>\n",
       "    </tr>\n",
       "    <tr>\n",
       "      <th>3</th>\n",
       "      <td>08/02/2018</td>\n",
       "      <td>9:30</td>\n",
       "      <td>NaN</td>\n",
       "      <td>NaN</td>\n",
       "    </tr>\n",
       "    <tr>\n",
       "      <th>4</th>\n",
       "      <td>06/13/2016</td>\n",
       "      <td>18:00</td>\n",
       "      <td>NaN</td>\n",
       "      <td>NaN</td>\n",
       "    </tr>\n",
       "  </tbody>\n",
       "</table>\n",
       "</div>"
      ],
      "text/plain": [
       "   CRASH_DATE CRASH_TIME  LATITUDE  LONGITUDE\n",
       "0  04/14/2020      11:00       NaN        NaN\n",
       "1  06/13/2016      17:10       NaN        NaN\n",
       "2  06/13/2016      17:30       NaN        NaN\n",
       "3  08/02/2018       9:30       NaN        NaN\n",
       "4  06/13/2016      18:00       NaN        NaN"
      ]
     },
     "execution_count": 4,
     "metadata": {},
     "output_type": "execute_result"
    }
   ],
   "source": [
    "df1.head()"
   ]
  },
  {
   "cell_type": "code",
   "execution_count": 5,
   "metadata": {},
   "outputs": [],
   "source": [
    "del df"
   ]
  },
  {
   "cell_type": "code",
   "execution_count": 6,
   "metadata": {},
   "outputs": [],
   "source": [
    "df1 = df1.dropna()"
   ]
  },
  {
   "cell_type": "code",
   "execution_count": 7,
   "metadata": {},
   "outputs": [],
   "source": [
    "df1 = df1[df1[\"CRASH_DATE\"].str.contains(\"2020\")]"
   ]
  },
  {
   "cell_type": "code",
   "execution_count": 8,
   "metadata": {},
   "outputs": [],
   "source": [
    "#df1 = df1[df1[\"CRASH_DATE\"].str.startswith(\"03/\")]"
   ]
  },
  {
   "cell_type": "code",
   "execution_count": 9,
   "metadata": {},
   "outputs": [],
   "source": [
    "df1 = df1[df1.LATITUDE!=0]"
   ]
  },
  {
   "cell_type": "code",
   "execution_count": 10,
   "metadata": {},
   "outputs": [],
   "source": [
    "df1 = df1.reset_index(drop=True)"
   ]
  },
  {
   "cell_type": "code",
   "execution_count": 11,
   "metadata": {},
   "outputs": [
    {
     "data": {
      "text/plain": [
       "(37372, 4)"
      ]
     },
     "execution_count": 11,
     "metadata": {},
     "output_type": "execute_result"
    }
   ],
   "source": [
    "df1.shape"
   ]
  },
  {
   "cell_type": "code",
   "execution_count": 12,
   "metadata": {},
   "outputs": [
    {
     "data": {
      "text/html": [
       "<div>\n",
       "<style scoped>\n",
       "    .dataframe tbody tr th:only-of-type {\n",
       "        vertical-align: middle;\n",
       "    }\n",
       "\n",
       "    .dataframe tbody tr th {\n",
       "        vertical-align: top;\n",
       "    }\n",
       "\n",
       "    .dataframe thead th {\n",
       "        text-align: right;\n",
       "    }\n",
       "</style>\n",
       "<table border=\"1\" class=\"dataframe\">\n",
       "  <thead>\n",
       "    <tr style=\"text-align: right;\">\n",
       "      <th></th>\n",
       "      <th>CRASH_DATE</th>\n",
       "      <th>CRASH_TIME</th>\n",
       "      <th>LATITUDE</th>\n",
       "      <th>LONGITUDE</th>\n",
       "    </tr>\n",
       "  </thead>\n",
       "  <tbody>\n",
       "    <tr>\n",
       "      <th>0</th>\n",
       "      <td>04/04/2020</td>\n",
       "      <td>22:52</td>\n",
       "      <td>40.669190</td>\n",
       "      <td>-73.885700</td>\n",
       "    </tr>\n",
       "    <tr>\n",
       "      <th>1</th>\n",
       "      <td>04/03/2020</td>\n",
       "      <td>17:45</td>\n",
       "      <td>40.732830</td>\n",
       "      <td>-73.974150</td>\n",
       "    </tr>\n",
       "    <tr>\n",
       "      <th>2</th>\n",
       "      <td>03/27/2020</td>\n",
       "      <td>0:00</td>\n",
       "      <td>40.875122</td>\n",
       "      <td>-73.905174</td>\n",
       "    </tr>\n",
       "    <tr>\n",
       "      <th>3</th>\n",
       "      <td>03/27/2020</td>\n",
       "      <td>19:15</td>\n",
       "      <td>40.693604</td>\n",
       "      <td>-73.822900</td>\n",
       "    </tr>\n",
       "    <tr>\n",
       "      <th>4</th>\n",
       "      <td>03/27/2020</td>\n",
       "      <td>9:55</td>\n",
       "      <td>40.809563</td>\n",
       "      <td>-73.929230</td>\n",
       "    </tr>\n",
       "  </tbody>\n",
       "</table>\n",
       "</div>"
      ],
      "text/plain": [
       "   CRASH_DATE CRASH_TIME   LATITUDE  LONGITUDE\n",
       "0  04/04/2020      22:52  40.669190 -73.885700\n",
       "1  04/03/2020      17:45  40.732830 -73.974150\n",
       "2  03/27/2020       0:00  40.875122 -73.905174\n",
       "3  03/27/2020      19:15  40.693604 -73.822900\n",
       "4  03/27/2020       9:55  40.809563 -73.929230"
      ]
     },
     "execution_count": 12,
     "metadata": {},
     "output_type": "execute_result"
    }
   ],
   "source": [
    "df1.head()"
   ]
  },
  {
   "cell_type": "code",
   "execution_count": 13,
   "metadata": {},
   "outputs": [],
   "source": [
    "df = pd.read_csv(\"data/projetpietonnisation2017.csv\")"
   ]
  },
  {
   "cell_type": "code",
   "execution_count": 14,
   "metadata": {},
   "outputs": [],
   "source": [
    "df = df[[\"TYPE_AXE\", \"TOPONYME\", \"LATITUDE\", \"LONGITUDE\"]]"
   ]
  },
  {
   "cell_type": "code",
   "execution_count": 15,
   "metadata": {},
   "outputs": [],
   "source": [
    "#df = df[df[\"TYPE_AXE\"]==\"Rue\"]"
   ]
  },
  {
   "cell_type": "code",
   "execution_count": 16,
   "metadata": {},
   "outputs": [],
   "source": [
    "df = df.reset_index(drop=True)"
   ]
  },
  {
   "cell_type": "code",
   "execution_count": 17,
   "metadata": {},
   "outputs": [
    {
     "data": {
      "text/plain": [
       "(53, 4)"
      ]
     },
     "execution_count": 17,
     "metadata": {},
     "output_type": "execute_result"
    }
   ],
   "source": [
    "df.shape"
   ]
  },
  {
   "cell_type": "code",
   "execution_count": 18,
   "metadata": {},
   "outputs": [],
   "source": [
    "dfm = pd.read_csv(\"data/lieuxculturels.csv\")"
   ]
  },
  {
   "cell_type": "code",
   "execution_count": 19,
   "metadata": {},
   "outputs": [],
   "source": [
    "dfm = dfm[[\"Arrondissement\", \"Ville\", \"Latitude\", \"Longitude\"]]"
   ]
  },
  {
   "cell_type": "code",
   "execution_count": 20,
   "metadata": {},
   "outputs": [],
   "source": [
    "dfm.rename(columns={\"Arrondissement\":\"TYPE_AXE\", \"Ville\":\"TOPONYME\",\n",
    "                    \"Latitude\":\"LATITUDE\", \"Longitude\":\"LONGITUDE\"}, inplace=True)"
   ]
  },
  {
   "cell_type": "code",
   "execution_count": 21,
   "metadata": {},
   "outputs": [],
   "source": [
    "dfr = pd.read_csv(\"data/fleuve_montagne_attractions.csv\")"
   ]
  },
  {
   "cell_type": "code",
   "execution_count": 23,
   "metadata": {},
   "outputs": [],
   "source": [
    "dfr = dfr[[\"categorie\", \"titre\", \"lat\", \"long\"]]\n",
    "dfr.rename(columns={\"categories\":\"TYPE_AXE\", \"titre\":\"TOPONYME\", \"lat\":\"LATITUDE\", \"long\":\"LONGITUDE\"}, inplace=True)"
   ]
  },
  {
   "cell_type": "code",
   "execution_count": 24,
   "metadata": {},
   "outputs": [],
   "source": [
    "df = pd.concat([df, dfm, dfr])"
   ]
  },
  {
   "cell_type": "code",
   "execution_count": 25,
   "metadata": {},
   "outputs": [],
   "source": [
    "from sklearn.utils import resample\n",
    "df = resample(df, n_samples=df1.shape[0])\n",
    "df = df.sample(frac=1)"
   ]
  },
  {
   "cell_type": "code",
   "execution_count": 26,
   "metadata": {},
   "outputs": [],
   "source": [
    "df = df.reset_index(drop=True)"
   ]
  },
  {
   "cell_type": "code",
   "execution_count": 27,
   "metadata": {},
   "outputs": [],
   "source": [
    "df1[\"LATITUDE\"] = df[\"LATITUDE\"]\n",
    "df1[\"LONGITUDE\"] = df[\"LONGITUDE\"]"
   ]
  },
  {
   "cell_type": "code",
   "execution_count": 28,
   "metadata": {},
   "outputs": [
    {
     "data": {
      "text/html": [
       "<div>\n",
       "<style scoped>\n",
       "    .dataframe tbody tr th:only-of-type {\n",
       "        vertical-align: middle;\n",
       "    }\n",
       "\n",
       "    .dataframe tbody tr th {\n",
       "        vertical-align: top;\n",
       "    }\n",
       "\n",
       "    .dataframe thead th {\n",
       "        text-align: right;\n",
       "    }\n",
       "</style>\n",
       "<table border=\"1\" class=\"dataframe\">\n",
       "  <thead>\n",
       "    <tr style=\"text-align: right;\">\n",
       "      <th></th>\n",
       "      <th>CRASH_DATE</th>\n",
       "      <th>CRASH_TIME</th>\n",
       "      <th>LATITUDE</th>\n",
       "      <th>LONGITUDE</th>\n",
       "    </tr>\n",
       "  </thead>\n",
       "  <tbody>\n",
       "    <tr>\n",
       "      <th>0</th>\n",
       "      <td>04/04/2020</td>\n",
       "      <td>22:52</td>\n",
       "      <td>45.503256</td>\n",
       "      <td>-73.554304</td>\n",
       "    </tr>\n",
       "    <tr>\n",
       "      <th>1</th>\n",
       "      <td>04/03/2020</td>\n",
       "      <td>17:45</td>\n",
       "      <td>45.496527</td>\n",
       "      <td>-73.576410</td>\n",
       "    </tr>\n",
       "    <tr>\n",
       "      <th>2</th>\n",
       "      <td>03/27/2020</td>\n",
       "      <td>0:00</td>\n",
       "      <td>45.505565</td>\n",
       "      <td>-73.578653</td>\n",
       "    </tr>\n",
       "    <tr>\n",
       "      <th>3</th>\n",
       "      <td>03/27/2020</td>\n",
       "      <td>19:15</td>\n",
       "      <td>45.475510</td>\n",
       "      <td>-73.614579</td>\n",
       "    </tr>\n",
       "    <tr>\n",
       "      <th>4</th>\n",
       "      <td>03/27/2020</td>\n",
       "      <td>9:55</td>\n",
       "      <td>45.430985</td>\n",
       "      <td>-73.594433</td>\n",
       "    </tr>\n",
       "  </tbody>\n",
       "</table>\n",
       "</div>"
      ],
      "text/plain": [
       "   CRASH_DATE CRASH_TIME   LATITUDE  LONGITUDE\n",
       "0  04/04/2020      22:52  45.503256 -73.554304\n",
       "1  04/03/2020      17:45  45.496527 -73.576410\n",
       "2  03/27/2020       0:00  45.505565 -73.578653\n",
       "3  03/27/2020      19:15  45.475510 -73.614579\n",
       "4  03/27/2020       9:55  45.430985 -73.594433"
      ]
     },
     "execution_count": 28,
     "metadata": {},
     "output_type": "execute_result"
    }
   ],
   "source": [
    "df1.head()"
   ]
  },
  {
   "cell_type": "code",
   "execution_count": 29,
   "metadata": {},
   "outputs": [
    {
     "data": {
      "text/plain": [
       "CRASH_DATE    0\n",
       "CRASH_TIME    0\n",
       "LATITUDE      0\n",
       "LONGITUDE     0\n",
       "dtype: int64"
      ]
     },
     "execution_count": 29,
     "metadata": {},
     "output_type": "execute_result"
    }
   ],
   "source": [
    "df1.isna().sum()"
   ]
  },
  {
   "cell_type": "code",
   "execution_count": 30,
   "metadata": {},
   "outputs": [
    {
     "data": {
      "text/plain": [
       "True"
      ]
     },
     "execution_count": 30,
     "metadata": {},
     "output_type": "execute_result"
    }
   ],
   "source": [
    "df1.shape[0] == df.shape[0]"
   ]
  },
  {
   "cell_type": "code",
   "execution_count": 31,
   "metadata": {},
   "outputs": [],
   "source": [
    "df1.rename(columns={\"CRASH_DATE\":\"date\", \"CRASH_TIME\":\"time\", \"LATITUDE\":\"latitude\", \"LONGITUDE\":\"longitude\"}, inplace=True)"
   ]
  },
  {
   "cell_type": "code",
   "execution_count": 32,
   "metadata": {},
   "outputs": [],
   "source": [
    "df1.to_csv(\"toy_data.csv\", index=False)"
   ]
  },
  {
   "cell_type": "code",
   "execution_count": 33,
   "metadata": {},
   "outputs": [
    {
     "data": {
      "text/html": [
       "<div>\n",
       "<style scoped>\n",
       "    .dataframe tbody tr th:only-of-type {\n",
       "        vertical-align: middle;\n",
       "    }\n",
       "\n",
       "    .dataframe tbody tr th {\n",
       "        vertical-align: top;\n",
       "    }\n",
       "\n",
       "    .dataframe thead th {\n",
       "        text-align: right;\n",
       "    }\n",
       "</style>\n",
       "<table border=\"1\" class=\"dataframe\">\n",
       "  <thead>\n",
       "    <tr style=\"text-align: right;\">\n",
       "      <th></th>\n",
       "      <th>date</th>\n",
       "      <th>time</th>\n",
       "      <th>latitude</th>\n",
       "      <th>longitude</th>\n",
       "    </tr>\n",
       "  </thead>\n",
       "  <tbody>\n",
       "    <tr>\n",
       "      <th>0</th>\n",
       "      <td>04/04/2020</td>\n",
       "      <td>22:52</td>\n",
       "      <td>45.503256</td>\n",
       "      <td>-73.554304</td>\n",
       "    </tr>\n",
       "    <tr>\n",
       "      <th>1</th>\n",
       "      <td>04/03/2020</td>\n",
       "      <td>17:45</td>\n",
       "      <td>45.496527</td>\n",
       "      <td>-73.576410</td>\n",
       "    </tr>\n",
       "    <tr>\n",
       "      <th>2</th>\n",
       "      <td>03/27/2020</td>\n",
       "      <td>0:00</td>\n",
       "      <td>45.505565</td>\n",
       "      <td>-73.578653</td>\n",
       "    </tr>\n",
       "    <tr>\n",
       "      <th>3</th>\n",
       "      <td>03/27/2020</td>\n",
       "      <td>19:15</td>\n",
       "      <td>45.475510</td>\n",
       "      <td>-73.614579</td>\n",
       "    </tr>\n",
       "    <tr>\n",
       "      <th>4</th>\n",
       "      <td>03/27/2020</td>\n",
       "      <td>9:55</td>\n",
       "      <td>45.430985</td>\n",
       "      <td>-73.594433</td>\n",
       "    </tr>\n",
       "    <tr>\n",
       "      <th>...</th>\n",
       "      <td>...</td>\n",
       "      <td>...</td>\n",
       "      <td>...</td>\n",
       "      <td>...</td>\n",
       "    </tr>\n",
       "    <tr>\n",
       "      <th>37367</th>\n",
       "      <td>01/17/2020</td>\n",
       "      <td>10:00</td>\n",
       "      <td>45.586646</td>\n",
       "      <td>-73.597193</td>\n",
       "    </tr>\n",
       "    <tr>\n",
       "      <th>37368</th>\n",
       "      <td>01/03/2020</td>\n",
       "      <td>17:15</td>\n",
       "      <td>45.502916</td>\n",
       "      <td>-73.554041</td>\n",
       "    </tr>\n",
       "    <tr>\n",
       "      <th>37369</th>\n",
       "      <td>01/03/2020</td>\n",
       "      <td>14:10</td>\n",
       "      <td>45.504150</td>\n",
       "      <td>-73.577278</td>\n",
       "    </tr>\n",
       "    <tr>\n",
       "      <th>37370</th>\n",
       "      <td>01/14/2020</td>\n",
       "      <td>17:10</td>\n",
       "      <td>45.504332</td>\n",
       "      <td>-73.573589</td>\n",
       "    </tr>\n",
       "    <tr>\n",
       "      <th>37371</th>\n",
       "      <td>01/07/2020</td>\n",
       "      <td>18:40</td>\n",
       "      <td>45.499989</td>\n",
       "      <td>-73.556182</td>\n",
       "    </tr>\n",
       "  </tbody>\n",
       "</table>\n",
       "<p>37372 rows × 4 columns</p>\n",
       "</div>"
      ],
      "text/plain": [
       "             date   time   latitude  longitude\n",
       "0      04/04/2020  22:52  45.503256 -73.554304\n",
       "1      04/03/2020  17:45  45.496527 -73.576410\n",
       "2      03/27/2020   0:00  45.505565 -73.578653\n",
       "3      03/27/2020  19:15  45.475510 -73.614579\n",
       "4      03/27/2020   9:55  45.430985 -73.594433\n",
       "...           ...    ...        ...        ...\n",
       "37367  01/17/2020  10:00  45.586646 -73.597193\n",
       "37368  01/03/2020  17:15  45.502916 -73.554041\n",
       "37369  01/03/2020  14:10  45.504150 -73.577278\n",
       "37370  01/14/2020  17:10  45.504332 -73.573589\n",
       "37371  01/07/2020  18:40  45.499989 -73.556182\n",
       "\n",
       "[37372 rows x 4 columns]"
      ]
     },
     "execution_count": 33,
     "metadata": {},
     "output_type": "execute_result"
    }
   ],
   "source": [
    "df1"
   ]
  },
  {
   "cell_type": "code",
   "execution_count": 34,
   "metadata": {},
   "outputs": [
    {
     "name": "stdout",
     "output_type": "stream",
     "text": [
      "<class 'pandas.core.frame.DataFrame'>\n",
      "RangeIndex: 37372 entries, 0 to 37371\n",
      "Data columns (total 4 columns):\n",
      " #   Column     Non-Null Count  Dtype  \n",
      "---  ------     --------------  -----  \n",
      " 0   date       37372 non-null  object \n",
      " 1   time       37372 non-null  object \n",
      " 2   latitude   37372 non-null  float64\n",
      " 3   longitude  37372 non-null  float64\n",
      "dtypes: float64(2), object(2)\n",
      "memory usage: 1.1+ MB\n"
     ]
    }
   ],
   "source": [
    "df1.info()"
   ]
  },
  {
   "cell_type": "code",
   "execution_count": 35,
   "metadata": {},
   "outputs": [
    {
     "data": {
      "text/plain": [
       "-73.58556236317385"
      ]
     },
     "execution_count": 35,
     "metadata": {},
     "output_type": "execute_result"
    }
   ],
   "source": [
    "np.average(df1[\"longitude\"])"
   ]
  },
  {
   "cell_type": "code",
   "execution_count": 36,
   "metadata": {},
   "outputs": [
    {
     "data": {
      "text/html": [
       "<div>\n",
       "<style scoped>\n",
       "    .dataframe tbody tr th:only-of-type {\n",
       "        vertical-align: middle;\n",
       "    }\n",
       "\n",
       "    .dataframe tbody tr th {\n",
       "        vertical-align: top;\n",
       "    }\n",
       "\n",
       "    .dataframe thead th {\n",
       "        text-align: right;\n",
       "    }\n",
       "</style>\n",
       "<table border=\"1\" class=\"dataframe\">\n",
       "  <thead>\n",
       "    <tr style=\"text-align: right;\">\n",
       "      <th></th>\n",
       "      <th>date</th>\n",
       "      <th>time</th>\n",
       "      <th>latitude</th>\n",
       "      <th>longitude</th>\n",
       "    </tr>\n",
       "  </thead>\n",
       "  <tbody>\n",
       "    <tr>\n",
       "      <th>0</th>\n",
       "      <td>04/04/2020</td>\n",
       "      <td>22:52</td>\n",
       "      <td>45.503256</td>\n",
       "      <td>-73.554304</td>\n",
       "    </tr>\n",
       "    <tr>\n",
       "      <th>1</th>\n",
       "      <td>04/03/2020</td>\n",
       "      <td>17:45</td>\n",
       "      <td>45.496527</td>\n",
       "      <td>-73.576410</td>\n",
       "    </tr>\n",
       "    <tr>\n",
       "      <th>2</th>\n",
       "      <td>03/27/2020</td>\n",
       "      <td>0:00</td>\n",
       "      <td>45.505565</td>\n",
       "      <td>-73.578653</td>\n",
       "    </tr>\n",
       "    <tr>\n",
       "      <th>3</th>\n",
       "      <td>03/27/2020</td>\n",
       "      <td>19:15</td>\n",
       "      <td>45.475510</td>\n",
       "      <td>-73.614579</td>\n",
       "    </tr>\n",
       "    <tr>\n",
       "      <th>4</th>\n",
       "      <td>03/27/2020</td>\n",
       "      <td>9:55</td>\n",
       "      <td>45.430985</td>\n",
       "      <td>-73.594433</td>\n",
       "    </tr>\n",
       "  </tbody>\n",
       "</table>\n",
       "</div>"
      ],
      "text/plain": [
       "         date   time   latitude  longitude\n",
       "0  04/04/2020  22:52  45.503256 -73.554304\n",
       "1  04/03/2020  17:45  45.496527 -73.576410\n",
       "2  03/27/2020   0:00  45.505565 -73.578653\n",
       "3  03/27/2020  19:15  45.475510 -73.614579\n",
       "4  03/27/2020   9:55  45.430985 -73.594433"
      ]
     },
     "execution_count": 36,
     "metadata": {},
     "output_type": "execute_result"
    }
   ],
   "source": [
    "df1.head()"
   ]
  },
  {
   "cell_type": "markdown",
   "metadata": {},
   "source": [
    "https://donnees.montreal.ca/ville-de-montreal/rues-pietonnes <br>\n",
    "https://donnees.montreal.ca/ville-de-montreal/lieux-culturels <br>\n",
    "https://donnees.montreal.ca/ville-de-montreal/promenade-fleuve-montagne"
   ]
  },
  {
   "cell_type": "code",
   "execution_count": null,
   "metadata": {},
   "outputs": [],
   "source": []
  },
  {
   "cell_type": "code",
   "execution_count": null,
   "metadata": {},
   "outputs": [],
   "source": []
  }
 ],
 "metadata": {
  "kernelspec": {
   "display_name": "Python 3",
   "language": "python",
   "name": "python3"
  },
  "language_info": {
   "codemirror_mode": {
    "name": "ipython",
    "version": 3
   },
   "file_extension": ".py",
   "mimetype": "text/x-python",
   "name": "python",
   "nbconvert_exporter": "python",
   "pygments_lexer": "ipython3",
   "version": "3.7.7"
  }
 },
 "nbformat": 4,
 "nbformat_minor": 4
}
