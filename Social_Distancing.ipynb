{
  "nbformat": 4,
  "nbformat_minor": 0,
  "metadata": {
    "colab": {
      "name": "Social Distancing.ipynb",
      "provenance": [],
      "collapsed_sections": []
    },
    "kernelspec": {
      "name": "python3",
      "display_name": "Python 3"
    }
  },
  "cells": [
    {
      "cell_type": "code",
      "metadata": {
        "id": "9QHxXQAjobr1"
      },
      "source": [
        "#!wget https://s3-us-west-2.amazonaws.com/static.pyimagesearch.com/opencv-social-distancing-detector/social-distance-detector.zip"
      ],
      "execution_count": 1,
      "outputs": []
    },
    {
      "cell_type": "code",
      "metadata": {
        "id": "xMdd3VmKot8q"
      },
      "source": [
        "#!unzip social-distance-detector.zip"
      ],
      "execution_count": 2,
      "outputs": []
    },
    {
      "cell_type": "code",
      "metadata": {
        "id": "vlvZKKk7ov_z"
      },
      "source": [
        "import numpy as np\n",
        "import cv2\n",
        "from scipy.spatial import distance as dist\n",
        "import argparse\n",
        "import imutils\n",
        "import os"
      ],
      "execution_count": 3,
      "outputs": []
    },
    {
      "cell_type": "code",
      "metadata": {
        "id": "9AaOJH5XsUGu"
      },
      "source": [
        "LABELS = open(\"yolo-coco/coco.names\").read().strip().split(\"\\n\")"
      ],
      "execution_count": 4,
      "outputs": []
    },
    {
      "cell_type": "code",
      "metadata": {
        "id": "Dxft5yL1pOgv"
      },
      "source": [
        "net = cv2.dnn.readNetFromDarknet(\"yolo-coco/yolov3.cfg\", \"yolo-coco/yolov3.weights\")"
      ],
      "execution_count": 5,
      "outputs": []
    },
    {
      "cell_type": "code",
      "metadata": {
        "id": "B5BgCucIrWkw"
      },
      "source": [
        "ln = net.getLayerNames()\n",
        "ln = [ln[i[0] - 1] for i in net.getUnconnectedOutLayers()]"
      ],
      "execution_count": 6,
      "outputs": []
    },
    {
      "cell_type": "code",
      "metadata": {
        "id": "a_n1QQFJrn8X"
      },
      "source": [
        "vs = cv2.VideoCapture(\"vid1.mp4\") # 0 for realtime feed\n",
        "writer = None"
      ],
      "execution_count": 7,
      "outputs": []
    },
    {
      "cell_type": "code",
      "metadata": {
        "id": "UBUxH3dastef"
      },
      "source": [
        "def detect_people(frame, net, ln, personIdx=0):\n",
        "\t(H, W) = frame.shape[:2]\n",
        "\tresults = []\n",
        "\n",
        "\tblob = cv2.dnn.blobFromImage(frame, 1 / 255.0, (416, 416), swapRB=True, crop=False)\n",
        "\tnet.setInput(blob)\n",
        "\tlayerOutputs = net.forward(ln)\n",
        "\n",
        "\tboxes = []\n",
        "\tcentroids = []\n",
        "\tconfidences = []\n",
        "\n",
        "\tfor output in layerOutputs:\n",
        "\t\tfor detection in output:\n",
        "\t\t\tscores = detection[5:]\n",
        "\t\t\tclassID = np.argmax(scores)\n",
        "\t\t\tconfidence = scores[classID]\n",
        "\n",
        "\t\t\tif classID == personIdx and confidence > 0.3:\n",
        "\t\t\t\tbox = detection[0:4] * np.array([W, H, W, H])\n",
        "\t\t\t\t(centerX, centerY, width, height) = box.astype(\"int\")\n",
        "\t\t\t\tx = int(centerX - (width / 2))\n",
        "\t\t\t\ty = int(centerY - (height / 2))\n",
        "\t\t\t\tboxes.append([x, y, int(width), int(height)])\n",
        "\t\t\t\tcentroids.append((centerX, centerY))\n",
        "\t\t\t\tconfidences.append(float(confidence))\n",
        "\n",
        "\tidxs = cv2.dnn.NMSBoxes(boxes, confidences, 0.3, 0.3)\n",
        "\tif len(idxs) > 0:\n",
        "\t\tfor i in idxs.flatten():\n",
        "\t\t\t(x, y) = (boxes[i][0], boxes[i][1])\n",
        "\t\t\t(w, h) = (boxes[i][2], boxes[i][3])\n",
        "\n",
        "\t\t\tr = (confidences[i], (x, y, x + w, y + h), centroids[i])\n",
        "\t\t\tresults.append(r)\n",
        "\treturn results"
      ],
      "execution_count": 8,
      "outputs": []
    },
    {
      "cell_type": "code",
      "metadata": {
        "id": "G-6dBdOhr5-n",
        "outputId": "d73aa21a-8db3-42a7-8cb6-1523437709c1",
        "colab": {
          "base_uri": "https://localhost:8080/"
        }
      },
      "source": [
        "count = 0\n",
        "\n",
        "while True:\n",
        "  (grabbed, frame) = vs.read()\n",
        "  if not grabbed:\n",
        "    break\n",
        "  \n",
        "  frame = imutils.resize(frame, width=700)\n",
        "  results = detect_people(frame, net, ln, personIdx=LABELS.index(\"person\"))\n",
        "  violate = set()\n",
        "  \n",
        "  if len(results) >= 2:\n",
        "    centroids = np.array([r[2] for r in results])\n",
        "    D = dist.cdist(centroids, centroids, metric=\"euclidean\")\n",
        "    for i in range(0, D.shape[0]):\n",
        "      for j in range(i + 1, D.shape[1]):\n",
        "        if D[i, j] < 50:\n",
        "          violate.add(i)\n",
        "          violate.add(j)\n",
        "          \n",
        "  for (i, (prob, bbox, centroid)) in enumerate(results):\n",
        "    (startX, startY, endX, endY) = bbox\n",
        "    (cX, cY) = centroid\n",
        "    color = (0, 255, 0)\n",
        "    if i in violate:\n",
        "      color = (0, 0, 255)\n",
        "    cv2.rectangle(frame, (startX, startY), (endX, endY), color, 2)\n",
        "    cv2.circle(frame, (cX, cY), 5, color, 1)\n",
        "    \n",
        "  text = \"Social Distancing Violations: {}\".format(len(violate))\n",
        "  cv2.putText(frame, text, (10, frame.shape[0] - 25), cv2.FONT_HERSHEY_SIMPLEX, 0.85, (0, 0, 255), 3)\n",
        "  \n",
        "  if writer is None:\n",
        "    fourcc = cv2.VideoWriter_fourcc(*\"MJPG\")\n",
        "    writer = cv2.VideoWriter(\"vid1o.avi\", fourcc, 25, (frame.shape[1], frame.shape[0]), True)\n",
        "  \n",
        "  if writer is not None:\n",
        "    writer.write(frame)\n",
        "\n",
        "  count += 1\n",
        "  print(count)"
      ],
      "execution_count": 9,
      "outputs": [
        {
          "output_type": "stream",
          "text": [
            "1\n",
            "2\n",
            "3\n",
            "4\n",
            "5\n",
            "6\n",
            "7\n",
            "8\n",
            "9\n",
            "10\n",
            "11\n",
            "12\n",
            "13\n",
            "14\n",
            "15\n",
            "16\n",
            "17\n",
            "18\n",
            "19\n",
            "20\n",
            "21\n",
            "22\n",
            "23\n",
            "24\n",
            "25\n",
            "26\n",
            "27\n",
            "28\n",
            "29\n",
            "30\n",
            "31\n",
            "32\n",
            "33\n",
            "34\n",
            "35\n",
            "36\n",
            "37\n",
            "38\n",
            "39\n",
            "40\n",
            "41\n",
            "42\n",
            "43\n",
            "44\n",
            "45\n",
            "46\n",
            "47\n",
            "48\n",
            "49\n",
            "50\n",
            "51\n",
            "52\n",
            "53\n",
            "54\n",
            "55\n",
            "56\n",
            "57\n",
            "58\n",
            "59\n",
            "60\n",
            "61\n",
            "62\n",
            "63\n",
            "64\n",
            "65\n",
            "66\n",
            "67\n",
            "68\n",
            "69\n",
            "70\n",
            "71\n",
            "72\n",
            "73\n",
            "74\n",
            "75\n",
            "76\n",
            "77\n",
            "78\n",
            "79\n",
            "80\n",
            "81\n",
            "82\n",
            "83\n",
            "84\n",
            "85\n",
            "86\n",
            "87\n",
            "88\n",
            "89\n",
            "90\n",
            "91\n",
            "92\n",
            "93\n",
            "94\n",
            "95\n",
            "96\n",
            "97\n",
            "98\n",
            "99\n",
            "100\n",
            "101\n",
            "102\n",
            "103\n",
            "104\n",
            "105\n",
            "106\n",
            "107\n",
            "108\n",
            "109\n",
            "110\n",
            "111\n",
            "112\n",
            "113\n",
            "114\n",
            "115\n",
            "116\n",
            "117\n",
            "118\n",
            "119\n",
            "120\n"
          ],
          "name": "stdout"
        }
      ]
    },
    {
      "cell_type": "code",
      "metadata": {
        "id": "9fhlF_YA5UJn"
      },
      "source": [
        ""
      ],
      "execution_count": 9,
      "outputs": []
    }
  ]
}