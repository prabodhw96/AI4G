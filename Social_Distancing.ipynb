{
 "cells": [
  {
   "cell_type": "code",
   "execution_count": 1,
   "metadata": {
    "id": "9QHxXQAjobr1"
   },
   "outputs": [],
   "source": [
    "#!wget https://s3-us-west-2.amazonaws.com/static.pyimagesearch.com/opencv-social-distancing-detector/social-distance-detector.zip"
   ]
  },
  {
   "cell_type": "code",
   "execution_count": 2,
   "metadata": {
    "id": "xMdd3VmKot8q"
   },
   "outputs": [],
   "source": [
    "#!unzip social-distance-detector.zip"
   ]
  },
  {
   "cell_type": "code",
   "execution_count": 3,
   "metadata": {
    "id": "vlvZKKk7ov_z"
   },
   "outputs": [],
   "source": [
    "import numpy as np\n",
    "import cv2\n",
    "from scipy.spatial import distance as dist\n",
    "import argparse\n",
    "import imutils\n",
    "import os"
   ]
  },
  {
   "cell_type": "code",
   "execution_count": 4,
   "metadata": {
    "id": "9AaOJH5XsUGu"
   },
   "outputs": [],
   "source": [
    "LABELS = open(\"yolo-coco/coco.names\").read().strip().split(\"\\n\")"
   ]
  },
  {
   "cell_type": "code",
   "execution_count": 5,
   "metadata": {
    "id": "Dxft5yL1pOgv"
   },
   "outputs": [],
   "source": [
    "net = cv2.dnn.readNetFromDarknet(\"yolo-coco/yolov3.cfg\", \"yolo-coco/yolov3.weights\")"
   ]
  },
  {
   "cell_type": "code",
   "execution_count": 6,
   "metadata": {
    "id": "B5BgCucIrWkw"
   },
   "outputs": [],
   "source": [
    "ln = net.getLayerNames()\n",
    "ln = [ln[i[0] - 1] for i in net.getUnconnectedOutLayers()]"
   ]
  },
  {
   "cell_type": "code",
   "execution_count": 7,
   "metadata": {
    "id": "a_n1QQFJrn8X"
   },
   "outputs": [],
   "source": [
    "vs = cv2.VideoCapture(\"vid1.mp4\") # 0 for realtime feed\n",
    "writer = None"
   ]
  },
  {
   "cell_type": "code",
   "execution_count": 8,
   "metadata": {
    "id": "UBUxH3dastef"
   },
   "outputs": [],
   "source": [
    "def detect_people(frame, net, ln, personIdx=0):\n",
    "    (H, W) = frame.shape[:2]\n",
    "    results = []\n",
    "\n",
    "    blob = cv2.dnn.blobFromImage(frame, 1 / 255.0, (416, 416), swapRB=True, crop=False)\n",
    "    net.setInput(blob)\n",
    "    layerOutputs = net.forward(ln)\n",
    "\n",
    "    boxes = []\n",
    "    centroids = []\n",
    "    confidences = []\n",
    "\n",
    "    for output in layerOutputs:\n",
    "        for detection in output:\n",
    "            scores = detection[5:]\n",
    "            classID = np.argmax(scores)\n",
    "            confidence = scores[classID]\n",
    "\n",
    "            if classID == personIdx and confidence > 0.3:\n",
    "                box = detection[0:4] * np.array([W, H, W, H])\n",
    "                (centerX, centerY, width, height) = box.astype(\"int\")\n",
    "                x = int(centerX - (width / 2))\n",
    "                y = int(centerY - (height / 2))\n",
    "                boxes.append([x, y, int(width), int(height)])\n",
    "                centroids.append((centerX, centerY))\n",
    "                confidences.append(float(confidence))\n",
    "\n",
    "    idxs = cv2.dnn.NMSBoxes(boxes, confidences, 0.3, 0.3)\n",
    "    if len(idxs) > 0:\n",
    "        for i in idxs.flatten():\n",
    "            (x, y) = (boxes[i][0], boxes[i][1])\n",
    "            (w, h) = (boxes[i][2], boxes[i][3])\n",
    "\n",
    "            r = (confidences[i], (x, y, x + w, y + h), centroids[i])\n",
    "            results.append(r)\n",
    "    return results"
   ]
  },
  {
   "cell_type": "code",
   "execution_count": 9,
   "metadata": {
    "colab": {
     "base_uri": "https://localhost:8080/"
    },
    "id": "G-6dBdOhr5-n",
    "outputId": "d73aa21a-8db3-42a7-8cb6-1523437709c1"
   },
   "outputs": [
    {
     "name": "stdout",
     "output_type": "stream",
     "text": [
      "1\n",
      "2\n",
      "3\n",
      "4\n",
      "5\n",
      "6\n",
      "7\n",
      "8\n",
      "9\n",
      "10\n",
      "11\n",
      "12\n",
      "13\n",
      "14\n",
      "15\n",
      "16\n",
      "17\n",
      "18\n",
      "19\n",
      "20\n",
      "21\n",
      "22\n",
      "23\n",
      "24\n",
      "25\n",
      "26\n",
      "27\n",
      "28\n",
      "29\n",
      "30\n",
      "31\n",
      "32\n",
      "33\n",
      "34\n",
      "35\n",
      "36\n",
      "37\n",
      "38\n",
      "39\n",
      "40\n",
      "41\n",
      "42\n",
      "43\n",
      "44\n",
      "45\n",
      "46\n",
      "47\n",
      "48\n",
      "49\n",
      "50\n",
      "51\n",
      "52\n",
      "53\n",
      "54\n",
      "55\n",
      "56\n",
      "57\n",
      "58\n",
      "59\n",
      "60\n",
      "61\n",
      "62\n",
      "63\n",
      "64\n",
      "65\n",
      "66\n",
      "67\n",
      "68\n",
      "69\n",
      "70\n",
      "71\n",
      "72\n",
      "73\n",
      "74\n",
      "75\n",
      "76\n",
      "77\n",
      "78\n",
      "79\n",
      "80\n",
      "81\n",
      "82\n",
      "83\n",
      "84\n",
      "85\n",
      "86\n",
      "87\n",
      "88\n",
      "89\n",
      "90\n",
      "91\n",
      "92\n",
      "93\n",
      "94\n",
      "95\n",
      "96\n",
      "97\n",
      "98\n",
      "99\n",
      "100\n",
      "101\n",
      "102\n",
      "103\n",
      "104\n",
      "105\n",
      "106\n",
      "107\n",
      "108\n",
      "109\n",
      "110\n",
      "111\n",
      "112\n",
      "113\n",
      "114\n",
      "115\n",
      "116\n",
      "117\n",
      "118\n",
      "119\n",
      "120\n"
     ]
    }
   ],
   "source": [
    "count = 0\n",
    "\n",
    "while True:\n",
    "  (grabbed, frame) = vs.read()\n",
    "  if not grabbed:\n",
    "    break\n",
    "  \n",
    "  frame = imutils.resize(frame, width=700)\n",
    "  results = detect_people(frame, net, ln, personIdx=LABELS.index(\"person\"))\n",
    "  violate = set()\n",
    "  \n",
    "  if len(results) >= 2:\n",
    "    centroids = np.array([r[2] for r in results])\n",
    "    D = dist.cdist(centroids, centroids, metric=\"euclidean\")\n",
    "    for i in range(0, D.shape[0]):\n",
    "      for j in range(i + 1, D.shape[1]):\n",
    "        if D[i, j] < 50:\n",
    "          violate.add(i)\n",
    "          violate.add(j)\n",
    "          \n",
    "  for (i, (prob, bbox, centroid)) in enumerate(results):\n",
    "    (startX, startY, endX, endY) = bbox\n",
    "    (cX, cY) = centroid\n",
    "    color = (0, 255, 0)\n",
    "    if i in violate:\n",
    "      color = (0, 0, 255)\n",
    "    cv2.rectangle(frame, (startX, startY), (endX, endY), color, 2)\n",
    "    cv2.circle(frame, (cX, cY), 5, color, 1)\n",
    "    \n",
    "  text = \"Social Distancing Violations: {}\".format(len(violate))\n",
    "  cv2.putText(frame, text, (10, frame.shape[0] - 25), cv2.FONT_HERSHEY_SIMPLEX, 0.85, (0, 0, 255), 3)\n",
    "  \n",
    "  if writer is None:\n",
    "    fourcc = cv2.VideoWriter_fourcc(*\"MJPG\")\n",
    "    writer = cv2.VideoWriter(\"vid1o.avi\", fourcc, 25, (frame.shape[1], frame.shape[0]), True)\n",
    "  \n",
    "  if writer is not None:\n",
    "    writer.write(frame)\n",
    "\n",
    "  count += 1\n",
    "  print(count)"
   ]
  },
  {
   "cell_type": "code",
   "execution_count": 9,
   "metadata": {
    "id": "9fhlF_YA5UJn"
   },
   "outputs": [],
   "source": []
  }
 ],
 "metadata": {
  "colab": {
   "collapsed_sections": [],
   "name": "Social Distancing.ipynb",
   "provenance": []
  },
  "kernelspec": {
   "display_name": "Python 3",
   "language": "python",
   "name": "python3"
  },
  "language_info": {
   "codemirror_mode": {
    "name": "ipython",
    "version": 3
   },
   "file_extension": ".py",
   "mimetype": "text/x-python",
   "name": "python",
   "nbconvert_exporter": "python",
   "pygments_lexer": "ipython3",
   "version": "3.7.7"
  }
 },
 "nbformat": 4,
 "nbformat_minor": 1
}
